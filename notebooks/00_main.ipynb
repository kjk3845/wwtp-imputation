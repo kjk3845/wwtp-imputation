{
 "cells": [
  {
   "cell_type": "markdown",
   "id": "aa12274e",
   "metadata": {},
   "source": [
    "# 00_main.ipynb\n",
    "\n",
    "Colab에서 실행 가능한 메인 노트북 예시입니다."
   ]
  },
  {
   "cell_type": "code",
   "execution_count": null,
   "id": "bb768e50",
   "metadata": {},
   "outputs": [],
   "source": [
    "\n",
    "import pandas as pd, numpy as np\n",
    "from pathlib import Path\n",
    "import matplotlib.pyplot as plt\n",
    "from src.io_utils import load_and_expand_minute\n",
    "\n",
    "# 데이터 로딩 예시\n",
    "DATA_DIR = Path(\"./data\")\n",
    "series = {}\n",
    "for name in [\"TOC\",\"TN\"]:\n",
    "    path = DATA_DIR / f\"{name}.csv\"\n",
    "    if path.exists():\n",
    "        series[name] = load_and_expand_minute(path)\n",
    "        print(name, series[name].shape)\n",
    "\n",
    "# 병합\n",
    "all_df = None\n",
    "for k,v in series.items():\n",
    "    v = v.rename(columns={\"value\": k})\n",
    "    all_df = v if all_df is None else all_df.join(v, how=\"outer\")\n",
    "\n",
    "df = all_df.rename(columns={\"TOC\":\"TOC_in\",\"TN\":\"TN_in\"})\n",
    "df.plot(figsize=(12,4), title=\"TOC / TN influent (raw)\")\n",
    "plt.show()\n"
   ]
  }
 ],
 "metadata": {},
 "nbformat": 4,
 "nbformat_minor": 5
}
